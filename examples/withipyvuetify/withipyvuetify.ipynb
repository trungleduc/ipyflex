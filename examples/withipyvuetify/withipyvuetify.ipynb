{
 "cells": [
  {
   "cell_type": "markdown",
   "id": "50bf2ecd",
   "metadata": {},
   "source": [
    "## A quick start example"
   ]
  },
  {
   "cell_type": "code",
   "execution_count": 12,
   "id": "abb6ce5e-4199-4989-9ea2-60dbf49a28ee",
   "metadata": {},
   "outputs": [],
   "source": [
    "from ipyflex import FlexLayout\n",
    "import ipywidgets as ipw\n",
    "import ipyvuetify as vue\n",
    "from ipywidgets import jslink\n",
    "import pandas as pd\n",
    "import numpy as np\n",
    "import pandas as pd\n",
    "\n",
    "df = pd.DataFrame(np.random.randint(0,100,size=(100, 4)), columns=list('ABCD'))"
   ]
  },
  {
   "cell_type": "markdown",
   "id": "5d41f688-c3fc-4cd9-92ae-c23cdb177a82",
   "metadata": {},
   "source": [
    "### Create the widget dictionary for FlexLayout"
   ]
  },
  {
   "cell_type": "code",
   "execution_count": 11,
   "id": "0ab108e9-15e9-4416-ba14-d13187d2f3e3",
   "metadata": {},
   "outputs": [],
   "source": [
    "widget1 = vue.Container(children=[vue.Btn(color='primary', children=['Click me'])])\n",
    "widget2 = vue.Btn(children=['ipyvuetify'])\n",
    "widget3 = vue.Select(\n",
    "    label='Fruits',\n",
    "    items=['Apple', 'Pear', 'Cherry'])\n",
    "\n",
    "color_select = vue.Select(\n",
    "    v_model='green',\n",
    "    label='Colors',\n",
    "    items=['red', 'green', 'blue'])\n",
    "\n",
    "color_display = vue.Chip()\n",
    "\n",
    "jslink((color_select, 'v_model'), (color_display, 'color'))\n",
    "\n",
    "\n",
    "widget4 = vue.Container(children=[\n",
    "    color_select,\n",
    "    color_display\n",
    "])\n",
    "\n",
    "widgets = {\n",
    "    'Widget 1' : widget1,\n",
    "    'Widget 2' : widget2,\n",
    "    'Widget 3' : widget3,\n",
    "    'Widget 4' : widget4\n",
    "}"
   ]
  },
  {
   "cell_type": "markdown",
   "id": "c7873e0b-f17c-4d79-8d3b-653ea9b5cf04",
   "metadata": {},
   "source": [
    "### Initialize an empty dashboard"
   ]
  },
  {
   "cell_type": "code",
   "execution_count": null,
   "id": "3d447fb5-cd59-4676-9503-e7ca96248d15",
   "metadata": {},
   "outputs": [],
   "source": [
    "FlexLayout(widgets, style={'height':'400px'})"
   ]
  },
  {
   "cell_type": "markdown",
   "id": "0974fac0-3992-47e0-ac51-7eef07dcabf0",
   "metadata": {},
   "source": [
    "### Load saved template with a non-editable dashboard"
   ]
  },
  {
   "cell_type": "code",
   "execution_count": null,
   "id": "10f6ef62-22ed-4a54-88a3-2c2507dca861",
   "metadata": {},
   "outputs": [],
   "source": [
    "FlexLayout(widgets, style={'height':'400px'}, template='vue_example.json', editable=True)"
   ]
  },
  {
   "cell_type": "code",
   "execution_count": null,
   "id": "c00447f7-018d-46fd-a030-fc05c8c4337d",
   "metadata": {},
   "outputs": [],
   "source": []
  }
 ],
 "metadata": {
  "kernelspec": {
   "display_name": "Python 3 (ipykernel)",
   "language": "python",
   "name": "python3"
  },
  "language_info": {
   "codemirror_mode": {
    "name": "ipython",
    "version": 3
   },
   "file_extension": ".py",
   "mimetype": "text/x-python",
   "name": "python",
   "nbconvert_exporter": "python",
   "pygments_lexer": "ipython3",
   "version": "3.8.12"
  }
 },
 "nbformat": 4,
 "nbformat_minor": 5
}
