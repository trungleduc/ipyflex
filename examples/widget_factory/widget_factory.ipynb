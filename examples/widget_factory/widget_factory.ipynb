{
 "cells": [
  {
   "cell_type": "markdown",
   "id": "d4c569c9-9060-4245-abdf-3a434f2c3a67",
   "metadata": {},
   "source": [
    "## A widget factory example"
   ]
  },
  {
   "cell_type": "code",
   "execution_count": 2,
   "id": "8e9ceab0-5b1d-413b-8744-bb3ea92dc6cb",
   "metadata": {},
   "outputs": [],
   "source": [
    "import ipywidgets\n",
    "from ipyflex import FlexLayout"
   ]
  },
  {
   "cell_type": "code",
   "execution_count": 3,
   "id": "887ba9a0-a506-49ae-8324-aeb36535b791",
   "metadata": {},
   "outputs": [],
   "source": [
    "slider = ipywidgets.FloatSlider(description='Linked slider')"
   ]
  },
  {
   "cell_type": "code",
   "execution_count": 4,
   "id": "94b10897-0011-4c76-b14f-663710581d05",
   "metadata": {},
   "outputs": [],
   "source": [
    "def slider_factory(label: 'Label of slider', value: 'Initial value'):\n",
    "    return ipywidgets.FloatSlider(value=float(value), description=label )"
   ]
  },
  {
   "cell_type": "code",
   "execution_count": 5,
   "id": "6b13a1d1-183f-478a-8ddc-f4ee44208efc",
   "metadata": {},
   "outputs": [],
   "source": [
    "widgets = {'Linked slider': slider}\n",
    "factories = {\"Slider factory\": slider_factory}"
   ]
  },
  {
   "cell_type": "markdown",
   "id": "ac5f292c-581f-4ad7-9eb5-29b677278307",
   "metadata": {},
   "source": [
    "### Create an empty dashboard with factory"
   ]
  },
  {
   "cell_type": "code",
   "execution_count": 6,
   "id": "05e001ae-28a9-410d-ba96-33aaa92576a2",
   "metadata": {},
   "outputs": [
    {
     "data": {
      "application/vnd.jupyter.widget-view+json": {
       "model_id": "11166ad0399740f8a64fc5e9b863f376",
       "version_major": 2,
       "version_minor": 0
      },
      "text/plain": [
       "FlexLayout(children={'Linked slider': FloatSlider(value=0.0, description='Linked slider')}, layout_config={'bo…"
      ]
     },
     "metadata": {},
     "output_type": "display_data"
    }
   ],
   "source": [
    "FlexLayout(widgets, factories=factories, style={'height':'300px'})"
   ]
  },
  {
   "cell_type": "markdown",
   "id": "e53da48e-56f5-4413-bc40-1e95588b74f9",
   "metadata": {},
   "source": [
    "### Load dashboard from template"
   ]
  },
  {
   "cell_type": "code",
   "execution_count": null,
   "id": "ef565dce-efc6-4481-9ae1-6acd2257a01f",
   "metadata": {},
   "outputs": [],
   "source": [
    "FlexLayout(widgets, factories=factories, style={'height':'300px'}, template = 'widget_factory.json')"
   ]
  },
  {
   "cell_type": "code",
   "execution_count": null,
   "id": "6219ba62-23b8-441f-843a-1e650243bba5",
   "metadata": {},
   "outputs": [],
   "source": []
  }
 ],
 "metadata": {
  "kernelspec": {
   "display_name": "Python 3 (ipykernel)",
   "language": "python",
   "name": "python3"
  },
  "language_info": {
   "codemirror_mode": {
    "name": "ipython",
    "version": 3
   },
   "file_extension": ".py",
   "mimetype": "text/x-python",
   "name": "python",
   "nbconvert_exporter": "python",
   "pygments_lexer": "ipython3",
   "version": "3.9.7"
  }
 },
 "nbformat": 4,
 "nbformat_minor": 5
}
