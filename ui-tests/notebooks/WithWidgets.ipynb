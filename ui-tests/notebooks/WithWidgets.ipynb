{
 "cells": [
  {
   "cell_type": "code",
   "execution_count": null,
   "id": "2b75e561-7c1f-48d6-ac98-15efa8c5f852",
   "metadata": {},
   "outputs": [],
   "source": [
    "import ipywidgets as ipw\n",
    "from ipyflex import FlexLayout"
   ]
  },
  {
   "cell_type": "code",
   "execution_count": null,
   "id": "fcd1c365-45a6-492f-84aa-c0e71f870f4b",
   "metadata": {},
   "outputs": [],
   "source": [
    "widgets = dict(slider= ipw.IntSlider(description='foo'), input=ipw.FloatText(description='bar'))"
   ]
  },
  {
   "cell_type": "code",
   "execution_count": null,
   "id": "5c043f25-6572-46ef-9a0b-ba5a7af3a323",
   "metadata": {},
   "outputs": [],
   "source": [
    "a = FlexLayout(widgets=widgets, header=True, template='withwidgets.json')"
   ]
  },
  {
   "cell_type": "code",
   "execution_count": null,
   "id": "8109a82c-cb96-4782-bd53-e5017f311d99",
   "metadata": {},
   "outputs": [],
   "source": [
    "a"
   ]
  },
  {
   "cell_type": "code",
   "execution_count": null,
   "id": "cf3c978f-2f24-44b5-a596-e931839a5f40",
   "metadata": {},
   "outputs": [],
   "source": []
  }
 ],
 "metadata": {
  "kernelspec": {
   "display_name": "Python 3 (ipykernel)",
   "language": "python",
   "name": "python3"
  },
  "language_info": {
   "codemirror_mode": {
    "name": "ipython",
    "version": 3
   },
   "file_extension": ".py",
   "mimetype": "text/x-python",
   "name": "python",
   "nbconvert_exporter": "python",
   "pygments_lexer": "ipython3",
   "version": "3.9.7"
  }
 },
 "nbformat": 4,
 "nbformat_minor": 5
}
