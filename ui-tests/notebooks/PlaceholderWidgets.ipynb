{
 "cells": [
  {
   "cell_type": "code",
   "execution_count": null,
   "id": "2b75e561-7c1f-48d6-ac98-15efa8c5f852",
   "metadata": {},
   "outputs": [],
   "source": [
    "import ipywidgets as ipw\n",
    "from ipyflex import FlexLayout"
   ]
  },
  {
   "cell_type": "code",
   "execution_count": null,
   "id": "5c043f25-6572-46ef-9a0b-ba5a7af3a323",
   "metadata": {},
   "outputs": [],
   "source": [
    "a = FlexLayout(header=True, template='placeholderwidgets.json')"
   ]
  },
  {
   "cell_type": "code",
   "execution_count": null,
   "id": "8109a82c-cb96-4782-bd53-e5017f311d99",
   "metadata": {},
   "outputs": [],
   "source": [
    "a"
   ]
  },
  {
   "cell_type": "code",
   "execution_count": null,
   "id": "b0658a0d-bb19-4749-9c46-cf187a6188bf",
   "metadata": {},
   "outputs": [],
   "source": [
    "a.add('foo', ipw.FloatSlider(description='foo'))"
   ]
  },
  {
   "cell_type": "code",
   "execution_count": null,
   "id": "b47033f7-e78b-45cf-931f-721812678331",
   "metadata": {},
   "outputs": [],
   "source": [
    "a.add('bar', ipw.IntText(description='bar'))"
   ]
  }
 ],
 "metadata": {
  "kernelspec": {
   "display_name": "Python 3 (ipykernel)",
   "language": "python",
   "name": "python3"
  },
  "language_info": {
   "codemirror_mode": {
    "name": "ipython",
    "version": 3
   },
   "file_extension": ".py",
   "mimetype": "text/x-python",
   "name": "python",
   "nbconvert_exporter": "python",
   "pygments_lexer": "ipython3",
   "version": "3.9.7"
  }
 },
 "nbformat": 4,
 "nbformat_minor": 5
}
