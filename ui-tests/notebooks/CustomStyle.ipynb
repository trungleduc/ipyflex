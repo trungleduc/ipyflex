{
 "cells": [
  {
   "cell_type": "code",
   "execution_count": null,
   "id": "2b75e561-7c1f-48d6-ac98-15efa8c5f852",
   "metadata": {},
   "outputs": [],
   "source": [
    "import ipywidgets as ipw\n",
    "from ipyflex import FlexLayout"
   ]
  },
  {
   "cell_type": "code",
   "execution_count": 40,
   "id": "5c043f25-6572-46ef-9a0b-ba5a7af3a323",
   "metadata": {},
   "outputs": [],
   "source": [
    "style = dict(height='400px',  padding='10px', border='solid red 5px')\n",
    "a = FlexLayout(style=style)"
   ]
  },
  {
   "cell_type": "code",
   "execution_count": 41,
   "id": "8109a82c-cb96-4782-bd53-e5017f311d99",
   "metadata": {},
   "outputs": [
    {
     "data": {
      "application/vnd.jupyter.widget-view+json": {
       "model_id": "105f712f572444f6b26cacc9395a84d8",
       "version_major": 2,
       "version_minor": 0
      },
      "text/plain": [
       "FlexLayout(layout_config={'borderLeft': False, 'borderRight': False}, style={'height': '400px', 'padding': '10…"
      ]
     },
     "metadata": {},
     "output_type": "display_data"
    }
   ],
   "source": [
    "a"
   ]
  },
  {
   "cell_type": "code",
   "execution_count": null,
   "id": "50dd7539-275f-4bd0-9d43-03366b5e3044",
   "metadata": {},
   "outputs": [],
   "source": []
  }
 ],
 "metadata": {
  "kernelspec": {
   "display_name": "Python 3 (ipykernel)",
   "language": "python",
   "name": "python3"
  },
  "language_info": {
   "codemirror_mode": {
    "name": "ipython",
    "version": 3
   },
   "file_extension": ".py",
   "mimetype": "text/x-python",
   "name": "python",
   "nbconvert_exporter": "python",
   "pygments_lexer": "ipython3",
   "version": "3.9.7"
  }
 },
 "nbformat": 4,
 "nbformat_minor": 5
}
